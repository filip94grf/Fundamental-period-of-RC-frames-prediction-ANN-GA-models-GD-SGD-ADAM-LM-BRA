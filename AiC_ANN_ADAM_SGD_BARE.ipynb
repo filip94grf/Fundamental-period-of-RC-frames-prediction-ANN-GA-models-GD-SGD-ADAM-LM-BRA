{
 "cells": [
  {
   "cell_type": "code",
   "execution_count": 1,
   "metadata": {},
   "outputs": [
    {
     "name": "stderr",
     "output_type": "stream",
     "text": [
      "\n",
      "KeyboardInterrupt\n",
      "\n"
     ]
    }
   ],
   "source": [
    "#Aktivacija biblioteka za grafičku i numeričku obradu podataka\n",
    "import pandas as pd\n",
    "import numpy as np\n",
    "import seaborn as sb\n",
    "import matplotlib.pyplot as plt"
   ]
  },
  {
   "cell_type": "code",
   "execution_count": null,
   "metadata": {},
   "outputs": [],
   "source": [
    "#Freezing sampling order and importing the dataset \n",
    "seed_value= 100 #random seed number\n",
    "import random \n",
    "random.seed(seed_value) \n",
    "bp = pd.read_excel('Database source') #specify path of your database file"
   ]
  },
  {
   "cell_type": "code",
   "execution_count": null,
   "metadata": {},
   "outputs": [],
   "source": [
    "#Overview of the database\n",
    "bp.head() "
   ]
  },
  {
   "cell_type": "code",
   "execution_count": null,
   "metadata": {},
   "outputs": [],
   "source": [
    "#Graphical presentation of the relationships between variables of the dataset\n",
    "sb.pairplot(bp)"
   ]
  },
  {
   "cell_type": "code",
   "execution_count": null,
   "metadata": {},
   "outputs": [],
   "source": [
    "bp.describe() #important informations about the distributions of the dataset variables"
   ]
  },
  {
   "cell_type": "code",
   "execution_count": null,
   "metadata": {},
   "outputs": [],
   "source": [
    "#Dataset train/test splitting strategy\n",
    "from sklearn.model_selection import train_test_split "
   ]
  },
  {
   "cell_type": "code",
   "execution_count": null,
   "metadata": {},
   "outputs": [],
   "source": [
    "X = bp[['NoSt','NoSp','LoSp']].values #input samples (BARE frames)"
   ]
  },
  {
   "cell_type": "code",
   "execution_count": null,
   "metadata": {},
   "outputs": [],
   "source": [
    "y = bp['TFP'].values #output samples (BARE frames)"
   ]
  },
  {
   "cell_type": "code",
   "execution_count": null,
   "metadata": {},
   "outputs": [],
   "source": [
    "#Train-test-split\n",
    "np.random.seed(seed_value) #freezing\n",
    "X_train, X_test, y_train, y_test = train_test_split(X, y, test_size=0.20, random_state=seed_value)"
   ]
  },
  {
   "cell_type": "code",
   "execution_count": null,
   "metadata": {},
   "outputs": [],
   "source": [
    "#Data preprocessing\n",
    "from sklearn.preprocessing import StandardScaler\n",
    "from sklearn.preprocessing import MinMaxScaler"
   ]
  },
  {
   "cell_type": "code",
   "execution_count": null,
   "metadata": {},
   "outputs": [],
   "source": [
    "scaling = MinMaxScaler(feature_range=(-1, 1))"
   ]
  },
  {
   "cell_type": "code",
   "execution_count": null,
   "metadata": {},
   "outputs": [],
   "source": [
    "X_tn=scaling.fit(X_train)"
   ]
  },
  {
   "cell_type": "code",
   "execution_count": null,
   "metadata": {},
   "outputs": [],
   "source": [
    "bpformula = scaling.transform(bpformula)"
   ]
  },
  {
   "cell_type": "code",
   "execution_count": null,
   "metadata": {},
   "outputs": [],
   "source": [
    "X = scaling.transform(X) #complete input data"
   ]
  },
  {
   "cell_type": "code",
   "execution_count": null,
   "metadata": {},
   "outputs": [],
   "source": [
    "X_train = scaling.transform(X_train)"
   ]
  },
  {
   "cell_type": "code",
   "execution_count": null,
   "metadata": {},
   "outputs": [],
   "source": [
    "X_test = scaling.transform(X_test)"
   ]
  },
  {
   "cell_type": "code",
   "execution_count": null,
   "metadata": {},
   "outputs": [],
   "source": [
    "y_train=np.reshape(y_train,(1478,1)) #depends on the train/test splitting strategy\n",
    "y=np.reshape(y,(1848,1)) #depends on the train/test splitting strategy\n",
    "\n",
    "scaling.fit(y_train)\n",
    "y_train = scaling.transform(y_train)"
   ]
  },
  {
   "cell_type": "code",
   "execution_count": null,
   "metadata": {},
   "outputs": [],
   "source": [
    "y_test=np.reshape(y_test,(370,1)) #depends on the train/test splitting strategy\n",
    "y_test = scaling.transform(y_test)"
   ]
  },
  {
   "cell_type": "code",
   "execution_count": null,
   "metadata": {},
   "outputs": [],
   "source": [
    "y = np.reshape(y,(1848,1)) #depends on the train/test splitting strategy\n",
    "y = scaling.transform(y)"
   ]
  },
  {
   "cell_type": "code",
   "execution_count": null,
   "metadata": {},
   "outputs": [],
   "source": [
    "#Activation of TensorFlow and Sklearn libraries\n",
    "import tensorflow as tf\n",
    "from tensorflow.keras.models import Sequential\n",
    "from tensorflow.keras.layers import Dense\n",
    "from tensorflow.keras.layers import Dropout"
   ]
  },
  {
   "cell_type": "code",
   "execution_count": null,
   "metadata": {},
   "outputs": [],
   "source": [
    "tf.random.set_seed(seed_value)"
   ]
  },
  {
   "cell_type": "code",
   "execution_count": null,
   "metadata": {},
   "outputs": [],
   "source": [
    "#ANN architecture\n",
    "model=Sequential()\n",
    "model.add(Dense(4,activation='tanh'))\n",
    "model.add(Dense(1,activation='linear'))\n",
    "\n",
    "#ANN algorithm/optimizer - Adam optimizer / SGD optimizer\n",
    "opt = tf.keras.optimizers.Adam(learning_rate=0.001,beta_1=0.9,beta_2=0.999,epsilon=1e-08)\n",
    "model.compile(optimizer=opt,loss='mse',steps_per_execution=5,run_eagerly=False)"
   ]
  },
  {
   "cell_type": "code",
   "execution_count": null,
   "metadata": {},
   "outputs": [],
   "source": [
    "#Implementation of early stopping rule\n",
    "from tensorflow.keras.callbacks import EarlyStopping"
   ]
  },
  {
   "cell_type": "code",
   "execution_count": null,
   "metadata": {},
   "outputs": [],
   "source": [
    "early_stopping = EarlyStopping(monitor='val_loss',mode='min',patience=100, restore_best_weights=True)"
   ]
  },
  {
   "cell_type": "code",
   "execution_count": null,
   "metadata": {},
   "outputs": [],
   "source": [
    "#Fitting the model\n",
    "model.fit(x=X_train,y=y_train,epochs=1000,validation_data=(X_test,y_test),shuffle=True,callbacks=[early_stopping])"
   ]
  },
  {
   "cell_type": "code",
   "execution_count": null,
   "metadata": {},
   "outputs": [],
   "source": [
    "error_bp = pd.DataFrame(model.history.history) #monitoring error values"
   ]
  },
  {
   "cell_type": "code",
   "execution_count": null,
   "metadata": {},
   "outputs": [],
   "source": [
    "error_bp"
   ]
  },
  {
   "cell_type": "code",
   "execution_count": null,
   "metadata": {},
   "outputs": [],
   "source": [
    "error_bp.plot()\n",
    "fig = error_bp.plot(grid='default',title='Loss / Iterations',xlabel='Epochs',ylabel='Mean Squared Error').get_figure()"
   ]
  },
  {
   "cell_type": "code",
   "execution_count": null,
   "metadata": {},
   "outputs": [],
   "source": [
    "#Model evaluation\n",
    "model.evaluate(X_train,y_train)\n",
    "model.evaluate(X_test,y_test)"
   ]
  },
  {
   "cell_type": "code",
   "execution_count": null,
   "metadata": {},
   "outputs": [],
   "source": [
    "#Comparison between dataset and ANN results\n",
    "test_prediction = model.predict(X_test)\n",
    "training_prediction = model.predict(X_train)\n",
    "all_prediction = model. predict(X)\n",
    "\n",
    "X_train = scaling.inverse_transform(X_train) #POVRATAK NA ORIGINALNE VREDNOSTI\n",
    "y_train = scaling.inverse_transform(y_train)\n",
    "X_test = scaling.inverse_transform(X_test)\n",
    "y_test = scaling.inverse_transform(y_test)\n",
    "\n",
    "X = scaling.inverse_transform(X)\n",
    "y = scaling.inverse_transform(y)\n",
    "test_prediction = scaling.inverse_transform(test_prediction)\n",
    "training_prediction = scaling.inverse_transform(training_prediction)\n",
    "all_prediction = scaling.inverse_transform(all_prediction)"
   ]
  },
  {
   "cell_type": "code",
   "execution_count": null,
   "metadata": {},
   "outputs": [],
   "source": [
    "test_prediction = pd.DataFrame(test_prediction.reshape(370,)) #depends on the train/test splitting strategy\n",
    "training_prediction = pd.DataFrame(training_prediction.reshape(1478,)) #depends on the train/test splitting strategy\n",
    "all_prediction = pd.DataFrame(all_prediction.reshape(1848,)) #depends on the train/test splitting strategy"
   ]
  },
  {
   "cell_type": "code",
   "execution_count": null,
   "metadata": {},
   "outputs": [],
   "source": [
    "test_prediction"
   ]
  },
  {
   "cell_type": "code",
   "execution_count": null,
   "metadata": {},
   "outputs": [],
   "source": [
    "training_prediction"
   ]
  },
  {
   "cell_type": "code",
   "execution_count": null,
   "metadata": {},
   "outputs": [],
   "source": [
    "all_prediction"
   ]
  },
  {
   "cell_type": "code",
   "execution_count": null,
   "metadata": {},
   "outputs": [],
   "source": [
    "#Poređenje rezultata na test uzorku zbog evaluacije mreže\n",
    "prediction_bp = pd.DataFrame(y_test,columns=['Output dataset'])\n",
    "prediction_bptraining = pd.DataFrame(y_train,columns=['Output dataset'])\n",
    "predikcija_bpsve = pd.DataFrame(y,columns=['Output dataset'])"
   ]
  },
  {
   "cell_type": "code",
   "execution_count": null,
   "metadata": {},
   "outputs": [],
   "source": [
    "prediction_bp = pd.concat([prediction_bp,test_prediction],axis=1)\n",
    "prediction_bptraining = pd.concat([prediction_bptraining,training_prediction],axis=1)\n",
    "predikcija_bpsve = pd.concat([predikcija_bpsve,all_prediction],axis=1)"
   ]
  },
  {
   "cell_type": "code",
   "execution_count": null,
   "metadata": {},
   "outputs": [],
   "source": [
    "#Promena imena kolona\n",
    "\n",
    "prediction_bp.columns=['Output dataset','Output ANN']\n",
    "\n",
    "prediction_bptraining.columns=['Output dataset','Output ANN']\n",
    "\n",
    "prediction_bpall.columns=['Output dataset','Output ANN']"
   ]
  },
  {
   "cell_type": "code",
   "execution_count": null,
   "metadata": {},
   "outputs": [],
   "source": [
    "#Plotting the results\n",
    "sb.regplot(x='Output ANN',y='Output dataset',ci=None, scatter=True, data=prediction_bp)"
   ]
  },
  {
   "cell_type": "code",
   "execution_count": null,
   "metadata": {},
   "outputs": [],
   "source": [
    "from sklearn import metrics\n",
    "R_square= metrics.r2_score(y_test,test_prediction)"
   ]
  },
  {
   "cell_type": "code",
   "execution_count": null,
   "metadata": {},
   "outputs": [],
   "source": [
    "sb.regplot(x='Output ANN',y='Output dataset',ci=None, scatter=True, data=prediction_bptraining)"
   ]
  },
  {
   "cell_type": "code",
   "execution_count": null,
   "metadata": {},
   "outputs": [],
   "source": [
    "R_square= metrics.r2_score(y_train,training_prediction)"
   ]
  },
  {
   "cell_type": "code",
   "execution_count": null,
   "metadata": {},
   "outputs": [],
   "source": [
    "sb.regplot(x='Output ANN',y='Output dataset',ci=None, scatter=True, data=prediction_bpall)"
   ]
  },
  {
   "cell_type": "code",
   "execution_count": null,
   "metadata": {},
   "outputs": [],
   "source": [
    "R_square= metrics.r2_score(y,all_prediction)"
   ]
  },
  {
   "cell_type": "code",
   "execution_count": null,
   "metadata": {},
   "outputs": [],
   "source": [
    "weights = model.get_weights() #ANN parameters"
   ]
  },
  {
   "cell_type": "code",
   "execution_count": null,
   "metadata": {},
   "outputs": [],
   "source": [
    "weights"
   ]
  }
 ],
 "metadata": {
  "kernelspec": {
   "display_name": "Python 3 (ipykernel)",
   "language": "python",
   "name": "python3"
  },
  "language_info": {
   "codemirror_mode": {
    "name": "ipython",
    "version": 3
   },
   "file_extension": ".py",
   "mimetype": "text/x-python",
   "name": "python",
   "nbconvert_exporter": "python",
   "pygments_lexer": "ipython3",
   "version": "3.9.12"
  }
 },
 "nbformat": 4,
 "nbformat_minor": 4
}

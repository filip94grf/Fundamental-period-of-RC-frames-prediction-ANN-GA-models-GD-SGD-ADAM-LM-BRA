{
 "cells": [
  {
   "cell_type": "code",
   "execution_count": 1,
   "metadata": {},
   "outputs": [
    {
     "name": "stderr",
     "output_type": "stream",
     "text": [
      "\n",
      "KeyboardInterrupt\n",
      "\n"
     ]
    }
   ],
   "source": [
    "#Activation of the Python libraries for numerical and graphical analyses\n",
    "import pandas as pd\n",
    "import numpy as np\n",
    "import seaborn as sb\n",
    "import matplotlib.pyplot as plt"
   ]
  },
  {
   "cell_type": "code",
   "execution_count": null,
   "metadata": {},
   "outputs": [],
   "source": [
    "#Freezing sampling order and importing the dataset \n",
    "seed_value= 400 #random seed number\n",
    "import random \n",
    "random.seed(seed_value)\n",
    "bp = pd.read_excel('Database source') #specify path of your database file (INFILLED FRAMES)"
   ]
  },
  {
   "cell_type": "code",
   "execution_count": null,
   "metadata": {},
   "outputs": [],
   "source": [
    "bp.describe() #important informations about the distributions of the dataset variables"
   ]
  },
  {
   "cell_type": "code",
   "execution_count": null,
   "metadata": {},
   "outputs": [],
   "source": [
    "#Dataset train/test splitting strategy\n",
    "from sklearn.model_selection import train_test_split "
   ]
  },
  {
   "cell_type": "code",
   "execution_count": null,
   "metadata": {},
   "outputs": [],
   "source": [
    "X = bp[['I','II','III','IV','V']].values #input samples (INFILLED frames)"
   ]
  },
  {
   "cell_type": "code",
   "execution_count": null,
   "metadata": {},
   "outputs": [],
   "source": [
    "y = bp['VI'].values #Output samples (INFILLED frames)"
   ]
  },
  {
   "cell_type": "code",
   "execution_count": null,
   "metadata": {},
   "outputs": [],
   "source": [
    "np.random.seed(seed_value) #freezing"
   ]
  },
  {
   "cell_type": "code",
   "execution_count": null,
   "metadata": {},
   "outputs": [],
   "source": [
    "#Data preprocessing (normalization)\n",
    "from sklearn.preprocessing import MinMaxScaler"
   ]
  },
  {
   "cell_type": "code",
   "execution_count": null,
   "metadata": {},
   "outputs": [],
   "source": [
    "scaling1 = MinMaxScaler(feature_range=(-1, 1)) #range between -1 and 1 for input data\n",
    "scaling2 = MinMaxScaler(feature_range=(-1, 1)) #range between -1 and 1 for output data"
   ]
  },
  {
   "cell_type": "code",
   "execution_count": null,
   "metadata": {},
   "outputs": [],
   "source": [
    "#Activation of TensorFlow and Sklearn libraries\n",
    "import tensorflow as tf\n",
    "from tensorflow.keras.models import Sequential\n",
    "from tensorflow.keras.layers import Dense\n",
    "from tensorflow.keras.layers import Dropout\n",
    "from tensorflow.keras import models\n",
    "from sklearn.model_selection import KFold\n",
    "from sklearn.model_selection import cross_val_score\n",
    "from sklearn.metrics import mean_absolute_error, mean_squared_error\n",
    "from tensorflow.keras.callbacks import EarlyStopping"
   ]
  },
  {
   "cell_type": "code",
   "execution_count": null,
   "metadata": {},
   "outputs": [],
   "source": [
    "early_stopping = EarlyStopping(monitor='val_loss',mode='min',patience=100, restore_best_weights=True) #Implementation of early stopping rule"
   ]
  },
  {
   "cell_type": "code",
   "execution_count": null,
   "metadata": {},
   "outputs": [],
   "source": [
    "tf.random.set_seed(seed_value) #Freezing the results\n",
    "kv = KFold(n_splits=10, shuffle=True, random_state=seed_value) #defining the CV procedure\n",
    "cv1_r2_scores_TEST=[] #R^2 scores on the test set\n",
    "cv1_r2_scores_TRAIN=[] #R^2 scores on the training set\n",
    "MSE1_scores_TEST=[] #mean squared error scores\n",
    "RMSE1_scores_TEST=[] #root mean squared error scores"
   ]
  },
  {
   "cell_type": "code",
   "execution_count": null,
   "metadata": {},
   "outputs": [],
   "source": [
    "#Hyperparameters\n",
    "import tensorflow.keras as k\n",
    "from sklearn import metrics\n",
    "y=np.reshape(y,(2178,1))\n",
    "\n",
    "for train, test in kv.split(X, y):\n",
    "    scaling1.fit(X[train])\n",
    "    X[train] = scaling1.transform(X[train])\n",
    "    X[test] = scaling1.transform(X[test])\n",
    "    scaling2.fit(y[train])\n",
    "    y[train] = scaling2.transform(y[train])\n",
    "    y[test] = scaling2.transform(y[test])\n",
    "    \n",
    "    #ANN architecture\n",
    "    model=Sequential()\n",
    "    model.add(Dense(10,activation='tanh')) \n",
    "    model.add(Dense(1,activation='linear')) \n",
    "    \n",
    "    #ANN algorithm/optimizer - Adam optimizer\n",
    "    opt1 = tf.keras.optimizers.Adam(learning_rate=0.001,beta_1=0.9,beta_2=0.9,epsilon=1e-08) #Adam or SGD optimizer - tuning hyperparameters\n",
    "    model.compile(optimizer=opt1,loss='mse',steps_per_execution=5,run_eagerly=False)\n",
    "    model.fit(X[train], y[train], epochs=1000,validation_data=(X[test], y[test]),shuffle=False,callbacks=[early_stopping])\n",
    "    \n",
    "    #ANN performance metrics\n",
    "    test_prediction = model.predict(X[test])\n",
    "    trening_prediction = model.predict(X[train])\n",
    "    \n",
    "    R_square_TEST1= metrics.r2_score(y[test],test_predikcija)\n",
    "    MSE_TEST1= metrics.mean_squared_error(y[test],test_predikcija)\n",
    "    RMSE_TEST1= metrics.mean_squared_error(y[test],test_predikcija)**0.5\n",
    "    R_square_TRAIN1=metrics.r2_score(y[train],trening_predikcija)\n",
    "    \n",
    "    #displaying numerical results\n",
    "    print ('Coefficient of determination R2-TEST', R_square_TEST1)\n",
    "    print ('Coefficient of determination R2-TRAIN', R_square_TRAIN1)\n",
    "    print ('MSE-TEST', MSE_TEST1)\n",
    "    print ('RMSE-TEST', RMSE_TEST1)\n",
    "    \n",
    "    #set of all results\n",
    "    cv1_r2_scores_TEST.append(R_square_TEST1)\n",
    "    cv1_r2_scores_TRAIN.append(R_square_TRAIN1)\n",
    "    MSE1_scores_TEST.append(MSE_TEST1)\n",
    "    RMSE1_scores_TEST.append(RMSE_TEST1)\n",
    "    \n",
    "#mean values of the performance indicators\n",
    "print(np.mean(cv1_r2_scores_TEST)) \n",
    "print(np.hstack(cv1_r2_scores_TEST))\n",
    "print(np.mean(cv1_r2_scores_TRAIN))\n",
    "print(np.hstack(cv1_r2_scores_TRAIN))\n",
    "print(np.mean(MSE1_scores_TEST))\n",
    "print(np.mean(RMSE1_scores_TEST))"
   ]
  },
  {
   "cell_type": "code",
   "execution_count": null,
   "metadata": {},
   "outputs": [],
   "source": [
    "#Graphical presentation of the results of the coefficients of determination - Test results\n",
    "fig = plt.figure()\n",
    "ax = fig.add_axes([0,0,1,1])\n",
    "threshold = np.mean(cv1_r2_scores_TEST)\n",
    "ax.set_yticks(np.arange(0.9, 1.01, 0.02))\n",
    "plt.ylim(0.9,1.01)\n",
    "ax.set_xlabel('Folds',fontsize=16)\n",
    "ax.set_ylabel('R²',fontsize=16)\n",
    "nums = ['1', '2', '3', '4', '5', '6', '7', '8', '9', '10']\n",
    "rsquared = np.hstack(cv1_r2_scores_TEST)\n",
    "plt.axhline(threshold, color='red', ls='dotted', lw=3)\n",
    "ax.bar(nums,rsquared,width=0.5)\n",
    "mn=str(\"{:.3f}\".format(np.mean(cv1_r2_scores_TEST)))\n",
    "plt.text(3,0.99,'Mean='+ mn,fontsize=16)\n",
    "plt.show()\n",
    "fig.savefig('Figure name 1.svg',dpi=1800) #set title of the figure"
   ]
  },
  {
   "cell_type": "code",
   "execution_count": null,
   "metadata": {},
   "outputs": [],
   "source": [
    "#Graphical presentation of the results of the coefficients of determination - Train results\n",
    "fig = plt.figure()\n",
    "ax = fig.add_axes([0,0,1,1])\n",
    "threshold = np.mean(cv1_r2_scores_TRAIN)\n",
    "ax.set_yticks(np.arange(0.9, 1.01, 0.02))\n",
    "plt.ylim(0.9,1.01)\n",
    "ax.set_xlabel('Folds',fontsize=16)\n",
    "ax.set_ylabel('R²',fontsize=16)\n",
    "nums = ['1', '2', '3', '4', '5', '6', '7', '8', '9', '10']\n",
    "rsquared = np.hstack(cv1_r2_scores_TRAIN)\n",
    "plt.axhline(threshold, color='red', ls='dotted', lw=3)\n",
    "ax.bar(nums,rsquared,width=0.5)\n",
    "mn=str(\"{:.3f}\".format(np.mean(cv1_r2_scores_TRAIN)))\n",
    "plt.text(3,0.99,'Mean='+ mn,fontsize=16)\n",
    "plt.show()\n",
    "fig.savefig('Figure name 2.svg',dpi=1800) #set title of the figure"
   ]
  }
 ],
 "metadata": {
  "kernelspec": {
   "display_name": "Python 3 (ipykernel)",
   "language": "python",
   "name": "python3"
  },
  "language_info": {
   "codemirror_mode": {
    "name": "ipython",
    "version": 3
   },
   "file_extension": ".py",
   "mimetype": "text/x-python",
   "name": "python",
   "nbconvert_exporter": "python",
   "pygments_lexer": "ipython3",
   "version": "3.9.12"
  }
 },
 "nbformat": 4,
 "nbformat_minor": 4
}
